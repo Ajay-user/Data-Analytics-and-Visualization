{
 "cells": [
  {
   "attachments": {},
   "cell_type": "markdown",
   "metadata": {},
   "source": [
    "## Hexbin plot are 2D histograms where bins are hexagons and color represents the number of datapoints within each bin"
   ]
  },
  {
   "cell_type": "code",
   "execution_count": 1,
   "metadata": {},
   "outputs": [],
   "source": [
    "import numpy as np\n",
    "import matplotlib.pyplot as plt\n",
    "\n",
    "from sklearn.datasets import load_wine"
   ]
  },
  {
   "cell_type": "code",
   "execution_count": 2,
   "metadata": {},
   "outputs": [],
   "source": [
    "X, y = load_wine(return_X_y=True, as_frame=True)"
   ]
  },
  {
   "attachments": {},
   "cell_type": "markdown",
   "metadata": {},
   "source": [
    "### Getting started with hexbin plot using matplotlib"
   ]
  },
  {
   "cell_type": "code",
   "execution_count": 3,
   "metadata": {},
   "outputs": [],
   "source": [
    "plt.hexbin(x=X['alcohol'], y=X['malic_acid'], gridsize=(20,15), cmap='magma');\n",
    "plt.title('Hexbin plot alcohol vs malic acid', fontsize=20)\n",
    "plt.xlabel('Alcohol', fontsize=16, fontweight='bold')\n",
    "plt.ylabel('Malic acid', fontsize=16, fontweight='bold')\n",
    "ax = plt.gca()\n",
    "ax.spines[['bottom','top','left','right']].set_visible(False)\n",
    "plt.colorbar()\n",
    "plt.show()"
   ]
  },
  {
   "attachments": {},
   "cell_type": "markdown",
   "metadata": {},
   "source": [
    "<img src='./plots/hexbin_plot-1.png'>"
   ]
  },
  {
   "attachments": {},
   "cell_type": "markdown",
   "metadata": {},
   "source": [
    "### pandas oneliner to the rescue"
   ]
  },
  {
   "cell_type": "code",
   "execution_count": 4,
   "metadata": {},
   "outputs": [],
   "source": [
    "X.plot(x='alcohol', y='malic_acid', kind='hexbin', gridsize=(15,10), title=\"Hexbin-plot alcohol vs malic-acid\");"
   ]
  },
  {
   "attachments": {},
   "cell_type": "markdown",
   "metadata": {},
   "source": [
    "<img src='./plots/hexbin_plot-2.png'>"
   ]
  },
  {
   "attachments": {},
   "cell_type": "markdown",
   "metadata": {},
   "source": [
    "### modify line properties"
   ]
  },
  {
   "cell_type": "code",
   "execution_count": 5,
   "metadata": {},
   "outputs": [],
   "source": [
    "plt.hexbin(\n",
    "    x=X['alcohol'], y=X['malic_acid'], gridsize=(15,10), cmap='magma',\n",
    "    linewidths=1.5, edgecolors='white'\n",
    ");\n",
    "\n",
    "plt.title('Hexbin plot alcohol vs malic acid', fontsize=20)\n",
    "plt.xlabel('Alcohol', fontsize=16, fontweight='bold')\n",
    "plt.ylabel('Malic acid', fontsize=16, fontweight='bold')\n",
    "ax = plt.gca()\n",
    "ax.spines[['bottom','top','left','right']].set_visible(False)\n",
    "plt.colorbar()\n",
    "plt.show()"
   ]
  },
  {
   "attachments": {},
   "cell_type": "markdown",
   "metadata": {},
   "source": [
    "<img src='./plots/hexbin_plot-3.png'>"
   ]
  },
  {
   "cell_type": "code",
   "execution_count": 6,
   "metadata": {},
   "outputs": [],
   "source": [
    "plt.hexbin(\n",
    "    x=X['alcohol'], y=X['malic_acid'], gridsize=(15,10), cmap='Greens',\n",
    "    linewidths=1.5, edgecolors='k', linestyle='dotted'\n",
    ");\n",
    "\n",
    "plt.title('Hexbin plot alcohol vs malic acid', fontsize=20)\n",
    "plt.xlabel('Alcohol', fontsize=16, fontweight='bold')\n",
    "plt.ylabel('Malic acid', fontsize=16, fontweight='bold')\n",
    "ax = plt.gca()\n",
    "ax.spines[['bottom','top','left','right']].set_visible(False)\n",
    "plt.colorbar()\n",
    "plt.show()"
   ]
  },
  {
   "attachments": {},
   "cell_type": "markdown",
   "metadata": {},
   "source": [
    "<img src='./plots/hexbin_plot-4.png'>"
   ]
  },
  {
   "cell_type": "code",
   "execution_count": 7,
   "metadata": {},
   "outputs": [],
   "source": [
    "plt.hexbin(\n",
    "    x=X['alcohol'], y=X['malic_acid'], gridsize=(15,10), cmap='YlOrRd',\n",
    "    linewidths=1.5, edgecolors='k', linestyle='dashed'\n",
    ");\n",
    "\n",
    "plt.title('Hexbin plot alcohol vs malic acid', fontsize=20)\n",
    "plt.xlabel('Alcohol', fontsize=16, fontweight='bold')\n",
    "plt.ylabel('Malic acid', fontsize=16, fontweight='bold')\n",
    "ax = plt.gca()\n",
    "ax.spines[['bottom','top','left','right']].set_visible(False)\n",
    "plt.colorbar()\n",
    "plt.show()"
   ]
  },
  {
   "attachments": {},
   "cell_type": "markdown",
   "metadata": {},
   "source": [
    "<img src='./plots/hexbin_plot-5.png'>"
   ]
  },
  {
   "cell_type": "code",
   "execution_count": 8,
   "metadata": {},
   "outputs": [],
   "source": [
    "plt.hexbin(\n",
    "    x=X['alcohol'], y=X['malic_acid'], gridsize=(15,10), cmap='gist_heat',\n",
    "    linewidths=1.5, edgecolors='k', linestyle='dashed', alpha=0.5\n",
    ");\n",
    "\n",
    "plt.title('Hexbin plot alcohol vs malic acid', fontsize=20)\n",
    "plt.xlabel('Alcohol', fontsize=16, fontweight='bold')\n",
    "plt.ylabel('Malic acid', fontsize=16, fontweight='bold')\n",
    "ax = plt.gca()\n",
    "ax.spines[['bottom','top','left','right']].set_visible(False)\n",
    "plt.colorbar()\n",
    "plt.show()"
   ]
  },
  {
   "attachments": {},
   "cell_type": "markdown",
   "metadata": {},
   "source": [
    "<img src='./plots/hexbin_plot-6.png'>"
   ]
  },
  {
   "attachments": {},
   "cell_type": "markdown",
   "metadata": {},
   "source": [
    "### I want to see hexbins with atleast one count or greater | use `mincnt`"
   ]
  },
  {
   "cell_type": "code",
   "execution_count": 9,
   "metadata": {},
   "outputs": [],
   "source": [
    "plt.hexbin(\n",
    "    x=X['alcohol'], y=X['malic_acid'], gridsize=(15,10), cmap='magma',\n",
    "    linewidths=1.5, edgecolors='white', mincnt=1\n",
    ");\n",
    "\n",
    "plt.title('Hexbin plot alcohol vs malic acid', fontsize=20)\n",
    "plt.xlabel('Alcohol', fontsize=16, fontweight='bold')\n",
    "plt.ylabel('Malic acid', fontsize=16, fontweight='bold')\n",
    "ax = plt.gca()\n",
    "ax.spines[['bottom','top','left','right']].set_visible(False)\n",
    "plt.colorbar()\n",
    "plt.show()"
   ]
  },
  {
   "attachments": {},
   "cell_type": "markdown",
   "metadata": {},
   "source": [
    "<img src='./plots/hexbin_plot-7.png'>"
   ]
  },
  {
   "attachments": {},
   "cell_type": "markdown",
   "metadata": {},
   "source": [
    "### Use `vmin` and `vmax` to control the range of values"
   ]
  },
  {
   "cell_type": "code",
   "execution_count": 10,
   "metadata": {},
   "outputs": [],
   "source": [
    "plt.hexbin(\n",
    "    x=X['alcohol'], y=X['malic_acid'], gridsize=(15,10), cmap='magma',\n",
    "    linewidths=1.5, edgecolors='white', vmin=1, vmax=3\n",
    ");\n",
    "\n",
    "plt.title('Hexbin plot alcohol vs malic acid', fontsize=20)\n",
    "plt.xlabel('Alcohol', fontsize=16, fontweight='bold')\n",
    "plt.ylabel('Malic acid', fontsize=16, fontweight='bold')\n",
    "ax = plt.gca()\n",
    "ax.spines[['bottom','top','left','right']].set_visible(False)\n",
    "plt.colorbar()\n",
    "plt.show()"
   ]
  },
  {
   "attachments": {},
   "cell_type": "markdown",
   "metadata": {},
   "source": [
    "<img src='./plots/hexbin_plot-8.png'>"
   ]
  },
  {
   "attachments": {},
   "cell_type": "markdown",
   "metadata": {},
   "source": [
    "### Use `mincnt`, `vmin` and `vmax` to zero in toward region of interest"
   ]
  },
  {
   "cell_type": "code",
   "execution_count": 11,
   "metadata": {},
   "outputs": [],
   "source": [
    "plt.hexbin(\n",
    "    x=X['alcohol'], y=X['malic_acid'], gridsize=(15,10), cmap='magma',\n",
    "    linewidths=1.5, edgecolors='white', mincnt=1, vmin=1, vmax=3\n",
    ");\n",
    "\n",
    "plt.title('Hexbin plot alcohol vs malic acid', fontsize=20)\n",
    "plt.xlabel('Alcohol', fontsize=16, fontweight='bold')\n",
    "plt.ylabel('Malic acid', fontsize=16, fontweight='bold')\n",
    "ax = plt.gca()\n",
    "ax.spines[['bottom','top','left','right']].set_visible(False)\n",
    "plt.colorbar()\n",
    "plt.show()"
   ]
  },
  {
   "attachments": {},
   "cell_type": "markdown",
   "metadata": {},
   "source": [
    "<img src='./plots/hexbin_plot-9.png'>"
   ]
  },
  {
   "attachments": {},
   "cell_type": "markdown",
   "metadata": {},
   "source": [
    "### Distribution of a third variable based on selected variables\n",
    "\n",
    "use the `C` parameter to pass the third variable\n",
    "\n",
    "I want to the distribution of `wine-type` based on `alcohol` & `malic_acid`"
   ]
  },
  {
   "cell_type": "code",
   "execution_count": 12,
   "metadata": {},
   "outputs": [],
   "source": [
    "plt.hexbin(\n",
    "    x=X['alcohol'], y=X['malic_acid'], gridsize=(15,10), \n",
    "    linewidths=1.5, edgecolors='white', C=y\n",
    ");\n",
    "\n",
    "plt.title('Hexbin plot alcohol vs malic acid', fontsize=20)\n",
    "plt.xlabel('Alcohol', fontsize=16, fontweight='bold')\n",
    "plt.ylabel('Malic acid', fontsize=16, fontweight='bold')\n",
    "ax = plt.gca()\n",
    "ax.spines[['bottom','top','left','right']].set_visible(False)\n",
    "plt.colorbar()\n",
    "plt.show()"
   ]
  },
  {
   "attachments": {},
   "cell_type": "markdown",
   "metadata": {},
   "source": [
    "<img src='./plots/hexbin_plot-10.png'>"
   ]
  },
  {
   "attachments": {},
   "cell_type": "markdown",
   "metadata": {},
   "source": [
    "### Change the aggregation method from `mean` to `median`\n",
    "\n",
    "use `reduce_C_function=np.median`"
   ]
  },
  {
   "cell_type": "code",
   "execution_count": 13,
   "metadata": {},
   "outputs": [],
   "source": [
    "plt.hexbin(\n",
    "    x=X['alcohol'], y=X['malic_acid'], gridsize=(15,10), \n",
    "    linewidths=1.5, edgecolors='white', C=y, reduce_C_function=np.median\n",
    ");\n",
    "\n",
    "plt.title('Hexbin plot alcohol vs malic acid', fontsize=20)\n",
    "plt.xlabel('Alcohol', fontsize=16, fontweight='bold')\n",
    "plt.ylabel('Malic acid', fontsize=16, fontweight='bold')\n",
    "ax = plt.gca()\n",
    "ax.spines[['bottom','top','left','right']].set_visible(False)\n",
    "plt.colorbar()\n",
    "plt.show()"
   ]
  },
  {
   "attachments": {},
   "cell_type": "markdown",
   "metadata": {},
   "source": [
    "<img src='./plots/hexbin_plot-11.png'>"
   ]
  },
  {
   "cell_type": "code",
   "execution_count": 9,
   "metadata": {},
   "outputs": [
    {
     "data": {
      "text/html": [
       "<div>\n",
       "<style scoped>\n",
       "    .dataframe tbody tr th:only-of-type {\n",
       "        vertical-align: middle;\n",
       "    }\n",
       "\n",
       "    .dataframe tbody tr th {\n",
       "        vertical-align: top;\n",
       "    }\n",
       "\n",
       "    .dataframe thead th {\n",
       "        text-align: right;\n",
       "    }\n",
       "</style>\n",
       "<table border=\"1\" class=\"dataframe\">\n",
       "  <thead>\n",
       "    <tr style=\"text-align: right;\">\n",
       "      <th></th>\n",
       "      <th>alcohol</th>\n",
       "      <th>proline</th>\n",
       "    </tr>\n",
       "  </thead>\n",
       "  <tbody>\n",
       "    <tr>\n",
       "      <th>min</th>\n",
       "      <td>11.03</td>\n",
       "      <td>278.0</td>\n",
       "    </tr>\n",
       "    <tr>\n",
       "      <th>max</th>\n",
       "      <td>14.83</td>\n",
       "      <td>1680.0</td>\n",
       "    </tr>\n",
       "  </tbody>\n",
       "</table>\n",
       "</div>"
      ],
      "text/plain": [
       "     alcohol  proline\n",
       "min    11.03    278.0\n",
       "max    14.83   1680.0"
      ]
     },
     "execution_count": 9,
     "metadata": {},
     "output_type": "execute_result"
    }
   ],
   "source": [
    "X[['alcohol','proline']].agg(['min','max'])"
   ]
  },
  {
   "cell_type": "code",
   "execution_count": 23,
   "metadata": {},
   "outputs": [],
   "source": [
    "ax = X[['alcohol','proline']].plot(\n",
    "    kind='hexbin', x='alcohol', y='proline', \n",
    "    gridsize=(15,16), edgecolor='k', mincnt=1,\n",
    "    title='Hexbin plot Alcohol vs Proline')\n",
    "ax.spines[['top','left','bottom','right']].set_visible(False)"
   ]
  },
  {
   "attachments": {},
   "cell_type": "markdown",
   "metadata": {},
   "source": [
    "<img src='./plots/hexbin_plot-12.png'>"
   ]
  },
  {
   "attachments": {},
   "cell_type": "markdown",
   "metadata": {},
   "source": [
    "### distribution of wine class -- based on alcohol vs proline "
   ]
  },
  {
   "cell_type": "code",
   "execution_count": 55,
   "metadata": {},
   "outputs": [],
   "source": [
    "df = X.copy()\n",
    "df['wine-type'] = y\n",
    "\n",
    "df.plot(kind='scatter', x='alcohol', y='proline', c='wine-type', cmap='winter')"
   ]
  },
  {
   "attachments": {},
   "cell_type": "markdown",
   "metadata": {},
   "source": [
    "<img src='./plots/scatter_plot-13.png'>"
   ]
  },
  {
   "cell_type": "code",
   "execution_count": 60,
   "metadata": {},
   "outputs": [],
   "source": [
    "# distribution of wine class -- based on alcohol vs proline \n",
    "\n",
    "\n",
    "\n",
    "ax = df[['alcohol','proline','wine-type']].plot(\n",
    "    kind='hexbin', x='alcohol', y='proline', \n",
    "    gridsize=(15,16), edgecolor='k', C='wine-type', cmap='winter',\n",
    "    title='Hexbin plot Alcohol vs Proline')\n",
    "ax.spines[['top','left','bottom','right']].set_visible(False)"
   ]
  },
  {
   "attachments": {},
   "cell_type": "markdown",
   "metadata": {},
   "source": [
    "<img src='./plots/hexbin_plot-14.png'>"
   ]
  },
  {
   "cell_type": "code",
   "execution_count": 61,
   "metadata": {},
   "outputs": [],
   "source": [
    "# distribution of wine class -- based on alcohol vs proline \n",
    "# mincnt = 1\n",
    "\n",
    "ax = df[['alcohol','proline','wine-type']].plot(\n",
    "    kind='hexbin', x='alcohol', y='proline', mincnt=1,\n",
    "    gridsize=(15,16), edgecolor='k', C='wine-type', cmap='winter',\n",
    "    title='Hexbin plot Alcohol vs Proline')\n",
    "ax.spines[['top','left','bottom','right']].set_visible(False)"
   ]
  },
  {
   "attachments": {},
   "cell_type": "markdown",
   "metadata": {},
   "source": [
    "<img src='./plots/hexbin_plot-15.png'>"
   ]
  },
  {
   "cell_type": "code",
   "execution_count": null,
   "metadata": {},
   "outputs": [],
   "source": []
  }
 ],
 "metadata": {
  "kernelspec": {
   "display_name": "datascience_env",
   "language": "python",
   "name": "python3"
  },
  "language_info": {
   "codemirror_mode": {
    "name": "ipython",
    "version": 3
   },
   "file_extension": ".py",
   "mimetype": "text/x-python",
   "name": "python",
   "nbconvert_exporter": "python",
   "pygments_lexer": "ipython3",
   "version": "3.10.11"
  },
  "orig_nbformat": 4
 },
 "nbformat": 4,
 "nbformat_minor": 2
}
