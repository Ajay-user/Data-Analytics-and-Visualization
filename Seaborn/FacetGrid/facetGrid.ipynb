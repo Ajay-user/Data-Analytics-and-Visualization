{
 "cells": [
  {
   "attachments": {},
   "cell_type": "markdown",
   "metadata": {},
   "source": [
    "#### Seaborns `FacetGrid` serves as backbone for `catplot`,  `relplot`,   `distplot`   "
   ]
  },
  {
   "cell_type": "code",
   "execution_count": 1,
   "metadata": {},
   "outputs": [],
   "source": [
    "import seaborn as sns\n",
    "import matplotlib.pyplot as plt"
   ]
  },
  {
   "cell_type": "code",
   "execution_count": 2,
   "metadata": {},
   "outputs": [
    {
     "data": {
      "text/html": [
       "<div>\n",
       "<style scoped>\n",
       "    .dataframe tbody tr th:only-of-type {\n",
       "        vertical-align: middle;\n",
       "    }\n",
       "\n",
       "    .dataframe tbody tr th {\n",
       "        vertical-align: top;\n",
       "    }\n",
       "\n",
       "    .dataframe thead th {\n",
       "        text-align: right;\n",
       "    }\n",
       "</style>\n",
       "<table border=\"1\" class=\"dataframe\">\n",
       "  <thead>\n",
       "    <tr style=\"text-align: right;\">\n",
       "      <th></th>\n",
       "      <th>species</th>\n",
       "      <th>island</th>\n",
       "      <th>bill_length_mm</th>\n",
       "      <th>bill_depth_mm</th>\n",
       "      <th>flipper_length_mm</th>\n",
       "      <th>body_mass_g</th>\n",
       "      <th>sex</th>\n",
       "    </tr>\n",
       "  </thead>\n",
       "  <tbody>\n",
       "    <tr>\n",
       "      <th>0</th>\n",
       "      <td>Adelie</td>\n",
       "      <td>Torgersen</td>\n",
       "      <td>39.1</td>\n",
       "      <td>18.7</td>\n",
       "      <td>181.0</td>\n",
       "      <td>3750.0</td>\n",
       "      <td>Male</td>\n",
       "    </tr>\n",
       "    <tr>\n",
       "      <th>1</th>\n",
       "      <td>Adelie</td>\n",
       "      <td>Torgersen</td>\n",
       "      <td>39.5</td>\n",
       "      <td>17.4</td>\n",
       "      <td>186.0</td>\n",
       "      <td>3800.0</td>\n",
       "      <td>Female</td>\n",
       "    </tr>\n",
       "    <tr>\n",
       "      <th>2</th>\n",
       "      <td>Adelie</td>\n",
       "      <td>Torgersen</td>\n",
       "      <td>40.3</td>\n",
       "      <td>18.0</td>\n",
       "      <td>195.0</td>\n",
       "      <td>3250.0</td>\n",
       "      <td>Female</td>\n",
       "    </tr>\n",
       "    <tr>\n",
       "      <th>4</th>\n",
       "      <td>Adelie</td>\n",
       "      <td>Torgersen</td>\n",
       "      <td>36.7</td>\n",
       "      <td>19.3</td>\n",
       "      <td>193.0</td>\n",
       "      <td>3450.0</td>\n",
       "      <td>Female</td>\n",
       "    </tr>\n",
       "    <tr>\n",
       "      <th>5</th>\n",
       "      <td>Adelie</td>\n",
       "      <td>Torgersen</td>\n",
       "      <td>39.3</td>\n",
       "      <td>20.6</td>\n",
       "      <td>190.0</td>\n",
       "      <td>3650.0</td>\n",
       "      <td>Male</td>\n",
       "    </tr>\n",
       "  </tbody>\n",
       "</table>\n",
       "</div>"
      ],
      "text/plain": [
       "  species     island  bill_length_mm  bill_depth_mm  flipper_length_mm  \\\n",
       "0  Adelie  Torgersen            39.1           18.7              181.0   \n",
       "1  Adelie  Torgersen            39.5           17.4              186.0   \n",
       "2  Adelie  Torgersen            40.3           18.0              195.0   \n",
       "4  Adelie  Torgersen            36.7           19.3              193.0   \n",
       "5  Adelie  Torgersen            39.3           20.6              190.0   \n",
       "\n",
       "   body_mass_g     sex  \n",
       "0       3750.0    Male  \n",
       "1       3800.0  Female  \n",
       "2       3250.0  Female  \n",
       "4       3450.0  Female  \n",
       "5       3650.0    Male  "
      ]
     },
     "execution_count": 2,
     "metadata": {},
     "output_type": "execute_result"
    }
   ],
   "source": [
    "pen = sns.load_dataset('penguins').dropna()\n",
    "pen.head()"
   ]
  },
  {
   "cell_type": "code",
   "execution_count": 5,
   "metadata": {},
   "outputs": [],
   "source": [
    "grid = sns.FacetGrid(data=pen)"
   ]
  },
  {
   "cell_type": "markdown",
   "metadata": {},
   "source": [
    "<img src='./plots/facet-grid-1.png'>"
   ]
  },
  {
   "cell_type": "code",
   "execution_count": 4,
   "metadata": {},
   "outputs": [
    {
     "data": {
      "text/plain": [
       "seaborn.axisgrid.FacetGrid"
      ]
     },
     "execution_count": 4,
     "metadata": {},
     "output_type": "execute_result"
    }
   ],
   "source": [
    "type(grid)"
   ]
  },
  {
   "attachments": {},
   "cell_type": "markdown",
   "metadata": {},
   "source": [
    "### sns facetplot : picks out a category feature and create one plot each and every category"
   ]
  },
  {
   "cell_type": "code",
   "execution_count": 6,
   "metadata": {},
   "outputs": [],
   "source": [
    "grid = sns.FacetGrid(data=pen, col='island')"
   ]
  },
  {
   "cell_type": "markdown",
   "metadata": {},
   "source": [
    "<img src='./plots/facet-grid-2.png'>"
   ]
  },
  {
   "cell_type": "code",
   "execution_count": 7,
   "metadata": {},
   "outputs": [],
   "source": [
    "grid = sns.FacetGrid(data=pen, row='island')"
   ]
  },
  {
   "cell_type": "markdown",
   "metadata": {},
   "source": [
    "<img src='./plots/facet-grid-3.png'>"
   ]
  },
  {
   "attachments": {},
   "cell_type": "markdown",
   "metadata": {},
   "source": [
    "### `map` | Apply a plotting function to each facet's subset of the data. "
   ]
  },
  {
   "cell_type": "code",
   "execution_count": 8,
   "metadata": {},
   "outputs": [],
   "source": [
    "grid = sns.FacetGrid(data=pen, col='island')\n",
    "grid.map(sns.histplot, 'bill_length_mm')"
   ]
  },
  {
   "cell_type": "markdown",
   "metadata": {},
   "source": [
    "<img src='./plots/facet-grid-4.png'>"
   ]
  },
  {
   "attachments": {},
   "cell_type": "markdown",
   "metadata": {},
   "source": [
    "### `map_dataframe`\n",
    "\n",
    "#### Like ``.map`` but passes args as strings and inserts data in kwargs. This method is suitable for plotting with functions that accept a long-form DataFrame as a data keyword argument and access the data in that DataFrame using string variable names."
   ]
  },
  {
   "cell_type": "code",
   "execution_count": 10,
   "metadata": {},
   "outputs": [],
   "source": [
    "grid = sns.FacetGrid(data=pen, col='island')\n",
    "grid.map_dataframe(sns.histplot, x='bill_length_mm')"
   ]
  },
  {
   "cell_type": "markdown",
   "metadata": {},
   "source": [
    "<img src='./plots/facet-grid-5.png'>"
   ]
  },
  {
   "cell_type": "code",
   "execution_count": 11,
   "metadata": {},
   "outputs": [],
   "source": [
    "grid = sns.FacetGrid(data=pen, col='island')\n",
    "grid.map_dataframe(sns.histplot, y='bill_length_mm')"
   ]
  },
  {
   "cell_type": "markdown",
   "metadata": {},
   "source": [
    "<img src='./plots/facet-grid-6.png'>"
   ]
  },
  {
   "cell_type": "code",
   "execution_count": 13,
   "metadata": {},
   "outputs": [],
   "source": [
    "with plt.style.context('fivethirtyeight'):\n",
    "    grid = sns.FacetGrid(data=pen, col='island')\n",
    "    grid.map_dataframe(sns.scatterplot, x='bill_depth_mm', y='bill_length_mm')"
   ]
  },
  {
   "cell_type": "markdown",
   "metadata": {},
   "source": [
    "<img src='./plots/facet-grid-7.png'>"
   ]
  },
  {
   "attachments": {},
   "cell_type": "markdown",
   "metadata": {},
   "source": [
    " * we can pass `hue` inside the `map_dataframe`, but there is an issue !\n",
    "\n",
    " * we want hue based on overall facet grid\n",
    "\n",
    " * `hue` should go up inside the FacetGrid\n",
    "\n"
   ]
  },
  {
   "cell_type": "code",
   "execution_count": 14,
   "metadata": {},
   "outputs": [],
   "source": [
    "with plt.style.context('fivethirtyeight'):\n",
    "    grid = sns.FacetGrid(data=pen, col='island')\n",
    "    grid.map_dataframe(sns.scatterplot, x='bill_depth_mm', y='bill_length_mm', hue='sex')"
   ]
  },
  {
   "cell_type": "markdown",
   "metadata": {},
   "source": [
    "<img src='./plots/facet-grid-8.png'>"
   ]
  },
  {
   "attachments": {},
   "cell_type": "markdown",
   "metadata": {},
   "source": [
    " * we can pass `hue` inside the `map_dataframe`, but there is an issue !\n",
    "\n",
    " * we want hue based on overall facet grid\n",
    "\n",
    " * `hue` should go up inside the FacetGrid"
   ]
  },
  {
   "cell_type": "code",
   "execution_count": 15,
   "metadata": {},
   "outputs": [],
   "source": [
    "with plt.style.context('ggplot'):\n",
    "    grid = sns.FacetGrid(data=pen, col='island')\n",
    "    grid.map_dataframe(sns.scatterplot, x='bill_depth_mm', y='bill_length_mm', hue='sex')"
   ]
  },
  {
   "cell_type": "markdown",
   "metadata": {},
   "source": [
    "<img src='./plots/facet-grid-9.png'>"
   ]
  },
  {
   "attachments": {},
   "cell_type": "markdown",
   "metadata": {},
   "source": [
    "### `set_axis_labels`\n",
    "\n",
    "\n",
    " * we can pass `hue` inside the `map_dataframe`, but there is an issue !\n",
    "\n",
    " * we want hue based on overall facet grid\n",
    "\n",
    " * `hue` should go up inside the FacetGrid"
   ]
  },
  {
   "cell_type": "code",
   "execution_count": 16,
   "metadata": {},
   "outputs": [],
   "source": [
    "with plt.style.context('fivethirtyeight'):\n",
    "    grid = sns.FacetGrid(data=pen, col='island')\n",
    "    grid.map_dataframe(sns.scatterplot, x='bill_depth_mm', y='bill_length_mm', hue='sex')\n",
    "    grid.set_axis_labels(x_var=\"Bill Depth in mm\", y_var=\"Bill Depth in mm\")"
   ]
  },
  {
   "cell_type": "markdown",
   "metadata": {},
   "source": [
    "<img src='./plots/facet-grid-10.png'>"
   ]
  },
  {
   "attachments": {},
   "cell_type": "markdown",
   "metadata": {},
   "source": [
    "\n",
    "#### `set_titles(col_template='{col_name} Island')`\n",
    "* `template` : \n",
    "    Template for all titles with the formatting keys {col_var} and {col_name} (if using a col faceting variable) and/or {row_var} and {row_name} (if using a row faceting variable).\n",
    "\n",
    "* `row_template`:\n",
    "    Template for the row variable when titles are drawn on the grid margins. Must have {row_var} and {row_name} formatting keys.\n",
    "    \n",
    "* `col_template`:\n",
    "    Template for the column variable when titles are drawn on the grid margins. Must have {col_var} and {col_name} formatting keys.\n",
    "\n",
    "\n",
    " * we can pass `hue` inside the `map_dataframe`, but there is an issue !\n",
    "\n",
    " * we want hue based on overall facet grid\n",
    "\n",
    " * `hue` should go up inside the FacetGrid"
   ]
  },
  {
   "cell_type": "code",
   "execution_count": 17,
   "metadata": {},
   "outputs": [],
   "source": [
    "with plt.style.context('fivethirtyeight'):\n",
    "    grid = sns.FacetGrid(data=pen, col='island')\n",
    "    grid.map_dataframe(sns.scatterplot, x='bill_depth_mm', y='bill_length_mm', hue='sex')\n",
    "    grid.set_axis_labels(x_var=\"Bill Depth in mm\", y_var=\"Bill Depth in mm\")\n",
    "    grid.set_titles(col_template='{col_name} Island')"
   ]
  },
  {
   "cell_type": "markdown",
   "metadata": {},
   "source": [
    "<img src='./plots/facet-grid-11.png'>"
   ]
  },
  {
   "attachments": {},
   "cell_type": "markdown",
   "metadata": {},
   "source": [
    "### `row` and `col`\n",
    "\n",
    " * we can pass `hue` inside the `map_dataframe`, but there is an issue !\n",
    "\n",
    " * we want hue based on overall facet grid\n",
    "\n",
    " * `hue` should go up inside the FacetGrid"
   ]
  },
  {
   "cell_type": "code",
   "execution_count": 18,
   "metadata": {},
   "outputs": [],
   "source": [
    "with plt.style.context('ggplot'):\n",
    "    grid = sns.FacetGrid(data=pen, col='island', row='species')\n",
    "    grid.map_dataframe(sns.scatterplot, x='bill_depth_mm', y='bill_length_mm', hue='sex')\n",
    "    grid.set_axis_labels(x_var=\"Bill Depth in mm\", y_var=\"Bill Depth in mm\")\n",
    "    grid.set_titles(col_template='{col_name}', row_template='{row_name}')\n"
   ]
  },
  {
   "cell_type": "markdown",
   "metadata": {},
   "source": [
    "<img src='./plots/facet-grid-12.png'>"
   ]
  },
  {
   "attachments": {},
   "cell_type": "markdown",
   "metadata": {},
   "source": [
    "### `sharey=False`\n",
    "\n",
    " * we can pass `hue` inside the `map_dataframe`, but there is an issue !\n",
    "\n",
    " * we want hue based on overall facet grid\n",
    "\n",
    " * `hue` should go up inside the FacetGrid"
   ]
  },
  {
   "cell_type": "code",
   "execution_count": 19,
   "metadata": {},
   "outputs": [],
   "source": [
    "with plt.style.context('fivethirtyeight'):\n",
    "    grid = sns.FacetGrid(data=pen, col='island', sharey=False)\n",
    "    grid.map_dataframe(sns.scatterplot, x='bill_depth_mm', y='bill_length_mm', hue='sex')\n",
    "    grid.set_axis_labels(x_var=\"Bill Depth in mm\", y_var=\"Bill Depth in mm\")"
   ]
  },
  {
   "cell_type": "markdown",
   "metadata": {},
   "source": [
    "<img src='./plots/facet-grid-13.png'>"
   ]
  },
  {
   "attachments": {},
   "cell_type": "markdown",
   "metadata": {},
   "source": [
    "### `ylim`\n",
    "\n",
    "\n",
    "`sharey=False` changes the y-limits for each plot\n",
    "\n",
    "fix: set `ylim`\n",
    "\n",
    "\n",
    " * we can pass `hue` inside the `map_dataframe`, but there is an issue !\n",
    "\n",
    " * we want hue based on overall facet grid\n",
    "\n",
    " * `hue` should go up inside the FacetGrid\n"
   ]
  },
  {
   "cell_type": "code",
   "execution_count": 20,
   "metadata": {},
   "outputs": [],
   "source": [
    "with plt.style.context('fivethirtyeight'):\n",
    "    grid = sns.FacetGrid(data=pen, col='island', sharey=False, ylim=(20,70))\n",
    "    grid.map_dataframe(sns.scatterplot, x='bill_depth_mm', y='bill_length_mm', hue='sex')\n",
    "    grid.set_axis_labels(x_var=\"Bill Depth in mm\", y_var=\"Bill Depth in mm\")"
   ]
  },
  {
   "cell_type": "markdown",
   "metadata": {},
   "source": [
    "<img src='./plots/facet-grid-14.png'>"
   ]
  },
  {
   "attachments": {},
   "cell_type": "markdown",
   "metadata": {},
   "source": [
    "#### * we can pass `hue` inside the `map_dataframe`, but there is an issue !\n",
    "\n",
    "#### * we want hue based on overall facet grid\n",
    "\n",
    "#### * `hue` should go up inside the FacetGrid\n",
    "\n",
    "#### * add a legend to understand this "
   ]
  },
  {
   "cell_type": "code",
   "execution_count": 21,
   "metadata": {},
   "outputs": [],
   "source": [
    "with plt.style.context('ggplot'):\n",
    "    grid = sns.FacetGrid(data=pen, col='island')\n",
    "    grid.map_dataframe(sns.scatterplot, x='bill_depth_mm', y='bill_length_mm', hue='species')\n",
    "    grid.set_axis_labels(x_var=\"Bill Depth in mm\", y_var=\"Bill Depth in mm\")\n",
    "    grid.add_legend()"
   ]
  },
  {
   "cell_type": "markdown",
   "metadata": {},
   "source": [
    "<img src='./plots/facet-grid-15.png'>"
   ]
  },
  {
   "cell_type": "code",
   "execution_count": 22,
   "metadata": {},
   "outputs": [],
   "source": [
    "with plt.style.context('ggplot'):\n",
    "    grid = sns.FacetGrid(data=pen, col='island',  hue='species')\n",
    "    grid.map_dataframe(sns.scatterplot, x='bill_depth_mm', y='bill_length_mm',)\n",
    "    grid.set_axis_labels(x_var=\"Bill Depth in mm\", y_var=\"Bill Depth in mm\")\n",
    "    grid.add_legend()"
   ]
  },
  {
   "cell_type": "markdown",
   "metadata": {},
   "source": [
    "<img src='./plots/facet-grid-16.png'>"
   ]
  },
  {
   "attachments": {},
   "cell_type": "markdown",
   "metadata": {},
   "source": [
    "### Custom Function"
   ]
  },
  {
   "cell_type": "code",
   "execution_count": 23,
   "metadata": {},
   "outputs": [],
   "source": [
    "import numpy as np\n",
    "\n",
    "\n",
    "def mean_line(data, var=None, **kws):\n",
    "    if not var:\n",
    "        return\n",
    "\n",
    "    # find the mean of the variable\n",
    "    m = np.mean(data[var].values)\n",
    "\n",
    "    # draw the mean\n",
    "    ax = plt.gca()\n",
    "    ax.axvline(x=m, color='red', lw=3, ls='--')\n",
    "\n",
    "    ax.text(x=0.5, y=0.8, s=f'mean:{m:.2f}', transform=ax.transAxes, color='green', fontweight='bold', fontsize=12)\n",
    "    "
   ]
  },
  {
   "attachments": {},
   "cell_type": "markdown",
   "metadata": {},
   "source": [
    "#### `map_dataframe` accepts any fn you like as long as it accepts ``data`` as one of its args"
   ]
  },
  {
   "cell_type": "code",
   "execution_count": 24,
   "metadata": {},
   "outputs": [],
   "source": [
    "with plt.style.context('ggplot'):\n",
    "    grid = sns.FacetGrid(data=pen, row='sex', col='species')\n",
    "    grid.map_dataframe(func=sns.kdeplot, x='body_mass_g', fill=True)\n",
    "    grid.set_titles(row_template='{row_name}', col_template='{col_name}')\n",
    "\n",
    "    grid.map_dataframe( mean_line , var='body_mass_g')"
   ]
  },
  {
   "cell_type": "markdown",
   "metadata": {},
   "source": [
    "<img src='./plots/facet-grid-17.png'>"
   ]
  },
  {
   "cell_type": "code",
   "execution_count": null,
   "metadata": {},
   "outputs": [],
   "source": []
  }
 ],
 "metadata": {
  "kernelspec": {
   "display_name": "datascience_env",
   "language": "python",
   "name": "python3"
  },
  "language_info": {
   "codemirror_mode": {
    "name": "ipython",
    "version": 3
   },
   "file_extension": ".py",
   "mimetype": "text/x-python",
   "name": "python",
   "nbconvert_exporter": "python",
   "pygments_lexer": "ipython3",
   "version": "3.11.4"
  },
  "orig_nbformat": 4
 },
 "nbformat": 4,
 "nbformat_minor": 2
}
